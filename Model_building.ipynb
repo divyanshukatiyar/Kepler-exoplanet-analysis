{
 "cells": [
  {
   "cell_type": "code",
   "execution_count": 1,
   "metadata": {},
   "outputs": [],
   "source": [
    "import pandas as pd\n",
    "import matplotlib.pyplot as plt\n",
    "import numpy as np"
   ]
  },
  {
   "cell_type": "code",
   "execution_count": 2,
   "metadata": {},
   "outputs": [],
   "source": [
    "df = pd.read_csv('Cleaned_Data.csv')"
   ]
  },
  {
   "cell_type": "code",
   "execution_count": 3,
   "metadata": {},
   "outputs": [
    {
     "data": {
      "text/plain": [
       "Index(['Unnamed: 0', 'rowid', 'kepid', 'kepoi_name', 'koi_disposition',\n",
       "       'koi_pdisposition', 'koi_score', 'koi_fpflag_nt', 'koi_fpflag_ss',\n",
       "       'koi_fpflag_co', 'koi_fpflag_ec', 'koi_period', 'koi_period_err1',\n",
       "       'koi_period_err2', 'koi_time0bk', 'koi_time0bk_err1',\n",
       "       'koi_time0bk_err2', 'koi_impact', 'koi_impact_err1', 'koi_impact_err2',\n",
       "       'koi_duration', 'koi_duration_err1', 'koi_duration_err2', 'koi_depth',\n",
       "       'koi_depth_err1', 'koi_depth_err2', 'koi_prad', 'koi_prad_err1',\n",
       "       'koi_prad_err2', 'koi_teq', 'koi_insol', 'koi_insol_err1',\n",
       "       'koi_insol_err2', 'koi_model_snr', 'koi_tce_plnt_num', 'koi_steff',\n",
       "       'koi_steff_err1', 'koi_steff_err2', 'koi_slogg', 'koi_slogg_err1',\n",
       "       'koi_slogg_err2', 'koi_srad', 'koi_srad_err1', 'koi_srad_err2', 'ra',\n",
       "       'dec', 'koi_kepmag'],\n",
       "      dtype='object')"
      ]
     },
     "execution_count": 3,
     "metadata": {},
     "output_type": "execute_result"
    }
   ],
   "source": [
    "# choose relevant columns\n",
    "df.columns"
   ]
  },
  {
   "cell_type": "code",
   "execution_count": 4,
   "metadata": {},
   "outputs": [],
   "source": [
    "df_model = df[['koi_disposition', 'koi_pdisposition', 'koi_score', 'koi_fpflag_nt', 'koi_period', 'koi_duration', 'koi_depth', 'koi_prad', \n",
    "              'koi_teq', 'koi_insol', 'koi_steff', 'koi_srad']]"
   ]
  },
  {
   "cell_type": "code",
   "execution_count": 5,
   "metadata": {},
   "outputs": [],
   "source": [
    "# get dummy data\n",
    "df_dummy = pd.get_dummies(df_model)"
   ]
  },
  {
   "cell_type": "code",
   "execution_count": 11,
   "metadata": {},
   "outputs": [],
   "source": [
    "# train test split\n",
    "from sklearn.model_selection import train_test_split\n",
    "\n",
    "X = df_dummy.drop('koi_score', axis=1)\n",
    "y = df_dummy.koi_score.values\n",
    "X_train, X_test, y_train, y_test = train_test_split(X, y, test_size = 0.5, random_state=1)"
   ]
  },
  {
   "cell_type": "code",
   "execution_count": 12,
   "metadata": {},
   "outputs": [
    {
     "data": {
      "text/html": [
       "<table class=\"simpletable\">\n",
       "<caption>OLS Regression Results</caption>\n",
       "<tr>\n",
       "  <th>Dep. Variable:</th>            <td>y</td>        <th>  R-squared:         </th> <td>   0.845</td>\n",
       "</tr>\n",
       "<tr>\n",
       "  <th>Model:</th>                   <td>OLS</td>       <th>  Adj. R-squared:    </th> <td>   0.845</td>\n",
       "</tr>\n",
       "<tr>\n",
       "  <th>Method:</th>             <td>Least Squares</td>  <th>  F-statistic:       </th> <td>   4355.</td>\n",
       "</tr>\n",
       "<tr>\n",
       "  <th>Date:</th>             <td>Mon, 31 Aug 2020</td> <th>  Prob (F-statistic):</th>  <td>  0.00</td> \n",
       "</tr>\n",
       "<tr>\n",
       "  <th>Time:</th>                 <td>17:56:37</td>     <th>  Log-Likelihood:    </th> <td>  3262.6</td>\n",
       "</tr>\n",
       "<tr>\n",
       "  <th>No. Observations:</th>      <td>  9564</td>      <th>  AIC:               </th> <td>  -6499.</td>\n",
       "</tr>\n",
       "<tr>\n",
       "  <th>Df Residuals:</th>          <td>  9551</td>      <th>  BIC:               </th> <td>  -6406.</td>\n",
       "</tr>\n",
       "<tr>\n",
       "  <th>Df Model:</th>              <td>    12</td>      <th>                     </th>     <td> </td>   \n",
       "</tr>\n",
       "<tr>\n",
       "  <th>Covariance Type:</th>      <td>nonrobust</td>    <th>                     </th>     <td> </td>   \n",
       "</tr>\n",
       "</table>\n",
       "<table class=\"simpletable\">\n",
       "<tr>\n",
       "                 <td></td>                    <th>coef</th>     <th>std err</th>      <th>t</th>      <th>P>|t|</th>  <th>[0.025</th>    <th>0.975]</th>  \n",
       "</tr>\n",
       "<tr>\n",
       "  <th>const</th>                           <td>    0.2670</td> <td>    0.008</td> <td>   34.893</td> <td> 0.000</td> <td>    0.252</td> <td>    0.282</td>\n",
       "</tr>\n",
       "<tr>\n",
       "  <th>koi_fpflag_nt</th>                   <td>    0.1890</td> <td>    0.005</td> <td>   35.465</td> <td> 0.000</td> <td>    0.179</td> <td>    0.199</td>\n",
       "</tr>\n",
       "<tr>\n",
       "  <th>koi_period</th>                      <td>-2.912e-06</td> <td> 1.32e-06</td> <td>   -2.202</td> <td> 0.028</td> <td> -5.5e-06</td> <td> -3.2e-07</td>\n",
       "</tr>\n",
       "<tr>\n",
       "  <th>koi_duration</th>                    <td>   -0.0039</td> <td>    0.000</td> <td>  -13.197</td> <td> 0.000</td> <td>   -0.004</td> <td>   -0.003</td>\n",
       "</tr>\n",
       "<tr>\n",
       "  <th>koi_depth</th>                       <td>-1.695e-07</td> <td> 2.31e-08</td> <td>   -7.331</td> <td> 0.000</td> <td>-2.15e-07</td> <td>-1.24e-07</td>\n",
       "</tr>\n",
       "<tr>\n",
       "  <th>koi_prad</th>                        <td> 2.129e-06</td> <td> 5.85e-07</td> <td>    3.638</td> <td> 0.000</td> <td> 9.82e-07</td> <td> 3.28e-06</td>\n",
       "</tr>\n",
       "<tr>\n",
       "  <th>koi_teq</th>                         <td>-2.938e-05</td> <td> 2.78e-06</td> <td>  -10.560</td> <td> 0.000</td> <td>-3.48e-05</td> <td>-2.39e-05</td>\n",
       "</tr>\n",
       "<tr>\n",
       "  <th>koi_insol</th>                       <td>  5.16e-08</td> <td> 1.38e-08</td> <td>    3.737</td> <td> 0.000</td> <td> 2.45e-08</td> <td> 7.87e-08</td>\n",
       "</tr>\n",
       "<tr>\n",
       "  <th>koi_steff</th>                       <td> 2.823e-06</td> <td> 2.48e-06</td> <td>    1.139</td> <td> 0.255</td> <td>-2.04e-06</td> <td> 7.68e-06</td>\n",
       "</tr>\n",
       "<tr>\n",
       "  <th>koi_srad</th>                        <td>    0.0003</td> <td>    0.000</td> <td>    0.828</td> <td> 0.407</td> <td>   -0.000</td> <td>    0.001</td>\n",
       "</tr>\n",
       "<tr>\n",
       "  <th>koi_disposition_CANDIDATE</th>       <td>   -0.0329</td> <td>    0.010</td> <td>   -3.200</td> <td> 0.001</td> <td>   -0.053</td> <td>   -0.013</td>\n",
       "</tr>\n",
       "<tr>\n",
       "  <th>koi_disposition_CONFIRMED</th>       <td>    0.1250</td> <td>    0.010</td> <td>   12.877</td> <td> 0.000</td> <td>    0.106</td> <td>    0.144</td>\n",
       "</tr>\n",
       "<tr>\n",
       "  <th>koi_disposition_FALSE POSITIVE</th>  <td>    0.1749</td> <td>    0.017</td> <td>   10.421</td> <td> 0.000</td> <td>    0.142</td> <td>    0.208</td>\n",
       "</tr>\n",
       "<tr>\n",
       "  <th>koi_pdisposition_CANDIDATE</th>      <td>    0.6109</td> <td>    0.012</td> <td>   49.014</td> <td> 0.000</td> <td>    0.587</td> <td>    0.635</td>\n",
       "</tr>\n",
       "<tr>\n",
       "  <th>koi_pdisposition_FALSE POSITIVE</th> <td>   -0.3439</td> <td>    0.015</td> <td>  -23.566</td> <td> 0.000</td> <td>   -0.373</td> <td>   -0.315</td>\n",
       "</tr>\n",
       "</table>\n",
       "<table class=\"simpletable\">\n",
       "<tr>\n",
       "  <th>Omnibus:</th>       <td>402.690</td> <th>  Durbin-Watson:     </th> <td>   1.860</td> \n",
       "</tr>\n",
       "<tr>\n",
       "  <th>Prob(Omnibus):</th> <td> 0.000</td>  <th>  Jarque-Bera (JB):  </th> <td> 963.788</td> \n",
       "</tr>\n",
       "<tr>\n",
       "  <th>Skew:</th>          <td>-0.242</td>  <th>  Prob(JB):          </th> <td>5.20e-210</td>\n",
       "</tr>\n",
       "<tr>\n",
       "  <th>Kurtosis:</th>      <td> 4.478</td>  <th>  Cond. No.          </th> <td>1.03e+21</td> \n",
       "</tr>\n",
       "</table><br/><br/>Warnings:<br/>[1] Standard Errors assume that the covariance matrix of the errors is correctly specified.<br/>[2] The smallest eigenvalue is 2.2e-28. This might indicate that there are<br/>strong multicollinearity problems or that the design matrix is singular."
      ],
      "text/plain": [
       "<class 'statsmodels.iolib.summary.Summary'>\n",
       "\"\"\"\n",
       "                            OLS Regression Results                            \n",
       "==============================================================================\n",
       "Dep. Variable:                      y   R-squared:                       0.845\n",
       "Model:                            OLS   Adj. R-squared:                  0.845\n",
       "Method:                 Least Squares   F-statistic:                     4355.\n",
       "Date:                Mon, 31 Aug 2020   Prob (F-statistic):               0.00\n",
       "Time:                        17:56:37   Log-Likelihood:                 3262.6\n",
       "No. Observations:                9564   AIC:                            -6499.\n",
       "Df Residuals:                    9551   BIC:                            -6406.\n",
       "Df Model:                          12                                         \n",
       "Covariance Type:            nonrobust                                         \n",
       "===================================================================================================\n",
       "                                      coef    std err          t      P>|t|      [0.025      0.975]\n",
       "---------------------------------------------------------------------------------------------------\n",
       "const                               0.2670      0.008     34.893      0.000       0.252       0.282\n",
       "koi_fpflag_nt                       0.1890      0.005     35.465      0.000       0.179       0.199\n",
       "koi_period                      -2.912e-06   1.32e-06     -2.202      0.028    -5.5e-06    -3.2e-07\n",
       "koi_duration                       -0.0039      0.000    -13.197      0.000      -0.004      -0.003\n",
       "koi_depth                       -1.695e-07   2.31e-08     -7.331      0.000   -2.15e-07   -1.24e-07\n",
       "koi_prad                         2.129e-06   5.85e-07      3.638      0.000    9.82e-07    3.28e-06\n",
       "koi_teq                         -2.938e-05   2.78e-06    -10.560      0.000   -3.48e-05   -2.39e-05\n",
       "koi_insol                         5.16e-08   1.38e-08      3.737      0.000    2.45e-08    7.87e-08\n",
       "koi_steff                        2.823e-06   2.48e-06      1.139      0.255   -2.04e-06    7.68e-06\n",
       "koi_srad                            0.0003      0.000      0.828      0.407      -0.000       0.001\n",
       "koi_disposition_CANDIDATE          -0.0329      0.010     -3.200      0.001      -0.053      -0.013\n",
       "koi_disposition_CONFIRMED           0.1250      0.010     12.877      0.000       0.106       0.144\n",
       "koi_disposition_FALSE POSITIVE      0.1749      0.017     10.421      0.000       0.142       0.208\n",
       "koi_pdisposition_CANDIDATE          0.6109      0.012     49.014      0.000       0.587       0.635\n",
       "koi_pdisposition_FALSE POSITIVE    -0.3439      0.015    -23.566      0.000      -0.373      -0.315\n",
       "==============================================================================\n",
       "Omnibus:                      402.690   Durbin-Watson:                   1.860\n",
       "Prob(Omnibus):                  0.000   Jarque-Bera (JB):              963.788\n",
       "Skew:                          -0.242   Prob(JB):                    5.20e-210\n",
       "Kurtosis:                       4.478   Cond. No.                     1.03e+21\n",
       "==============================================================================\n",
       "\n",
       "Warnings:\n",
       "[1] Standard Errors assume that the covariance matrix of the errors is correctly specified.\n",
       "[2] The smallest eigenvalue is 2.2e-28. This might indicate that there are\n",
       "strong multicollinearity problems or that the design matrix is singular.\n",
       "\"\"\""
      ]
     },
     "execution_count": 12,
     "metadata": {},
     "output_type": "execute_result"
    }
   ],
   "source": [
    "# multiple linear regression\n",
    "import statsmodels.api as sm\n",
    "X_sm = X = sm.add_constant(X)\n",
    "model = sm.OLS(y, X_sm)\n",
    "model.fit().summary()"
   ]
  },
  {
   "cell_type": "code",
   "execution_count": 14,
   "metadata": {},
   "outputs": [
    {
     "data": {
      "text/plain": [
       "-0.1280736291391439"
      ]
     },
     "execution_count": 14,
     "metadata": {},
     "output_type": "execute_result"
    }
   ],
   "source": [
    "from sklearn.linear_model import LinearRegression\n",
    "from sklearn.model_selection import cross_val_score\n",
    "\n",
    "reg = LinearRegression()\n",
    "reg.fit(X_train, y_train)\n",
    "cross = cross_val_score(reg, X_train, y_train, scoring = 'neg_mean_absolute_error', cv=4)\n",
    "np.mean(cross)"
   ]
  },
  {
   "cell_type": "code",
   "execution_count": 18,
   "metadata": {},
   "outputs": [
    {
     "data": {
      "text/plain": [
       "-0.3256962104664399"
      ]
     },
     "execution_count": 18,
     "metadata": {},
     "output_type": "execute_result"
    }
   ],
   "source": [
    "# Lasso regression\n",
    "from sklearn.linear_model import Lasso\n",
    "reg_lasso = Lasso(alpha=0.13)\n",
    "reg_lasso.fit(X_train, y_train)\n",
    "cross_lasso = cross_val_score(reg_lasso, X_train, y_train, scoring = 'neg_mean_absolute_error', cv=4)\n",
    "np.mean(cross_lasso)"
   ]
  },
  {
   "cell_type": "code",
   "execution_count": 23,
   "metadata": {},
   "outputs": [
    {
     "data": {
      "text/plain": [
       "[<matplotlib.lines.Line2D at 0x27fc455e548>]"
      ]
     },
     "execution_count": 23,
     "metadata": {},
     "output_type": "execute_result"
    },
    {
     "data": {
      "image/png": "[encoded data removed]",
      "text/plain": [
       "<Figure size 432x288 with 1 Axes>"
      ]
     },
     "metadata": {
      "needs_background": "light"
     },
     "output_type": "display_data"
    }
   ],
   "source": [
    "# let's try a couple different values of alpha and see which one performs the best\n",
    "alpha = []\n",
    "error =[]\n",
    "\n",
    "for i in range (1,100):\n",
    "    alpha.append(i/1000)\n",
    "    regl = Lasso(alpha=(i/1000))\n",
    "    error.append(np.mean(cross_val_score(regl, X_train, y_train, scoring='neg_mean_absolute_error', cv=4)))\n",
    "plt.plot(alpha, error)"
   ]
  },
  {
   "cell_type": "code",
   "execution_count": 24,
   "metadata": {},
   "outputs": [
    {
     "data": {
      "text/html": [
       "<div>\n",
       "<style scoped>\n",
       "    .dataframe tbody tr th:only-of-type {\n",
       "        vertical-align: middle;\n",
       "    }\n",
       "\n",
       "    .dataframe tbody tr th {\n",
       "        vertical-align: top;\n",
       "    }\n",
       "\n",
       "    .dataframe thead th {\n",
       "        text-align: right;\n",
       "    }\n",
       "</style>\n",
       "<table border=\"1\" class=\"dataframe\">\n",
       "  <thead>\n",
       "    <tr style=\"text-align: right;\">\n",
       "      <th></th>\n",
       "      <th>alpha</th>\n",
       "      <th>error</th>\n",
       "    </tr>\n",
       "  </thead>\n",
       "  <tbody>\n",
       "    <tr>\n",
       "      <th>0</th>\n",
       "      <td>0.001</td>\n",
       "      <td>-0.130036</td>\n",
       "    </tr>\n",
       "  </tbody>\n",
       "</table>\n",
       "</div>"
      ],
      "text/plain": [
       "   alpha     error\n",
       "0  0.001 -0.130036"
      ]
     },
     "execution_count": 24,
     "metadata": {},
     "output_type": "execute_result"
    }
   ],
   "source": [
    "err = tuple(zip(alpha, error))\n",
    "df_err = pd.DataFrame(err, columns=['alpha', 'error'])\n",
    "df_err[df_err.error == max(df_err.error)]"
   ]
  },
  {
   "cell_type": "code",
   "execution_count": 29,
   "metadata": {},
   "outputs": [
    {
     "data": {
      "text/plain": [
       "-0.08408542847025492"
      ]
     },
     "execution_count": 29,
     "metadata": {},
     "output_type": "execute_result"
    }
   ],
   "source": [
    "# random forest\n",
    "from sklearn.ensemble import RandomForestRegressor\n",
    "rfr = RandomForestRegressor()\n",
    "np.mean(cross_val_score(rfr, X_train, y_train, scoring='neg_mean_absolute_error', cv=4))"
   ]
  },
  {
   "cell_type": "code",
   "execution_count": 30,
   "metadata": {},
   "outputs": [
    {
     "data": {
      "text/plain": [
       "GridSearchCV(cv=3, error_score=nan,\n",
       "             estimator=RandomForestRegressor(bootstrap=True, ccp_alpha=0.0,\n",
       "                                             criterion='mse', max_depth=None,\n",
       "                                             max_features='auto',\n",
       "                                             max_leaf_nodes=None,\n",
       "                                             max_samples=None,\n",
       "                                             min_impurity_decrease=0.0,\n",
       "                                             min_impurity_split=None,\n",
       "                                             min_samples_leaf=1,\n",
       "                                             min_samples_split=2,\n",
       "                                             min_weight_fraction_leaf=0.0,\n",
       "                                             n_estimators=100, n_jobs=None,\n",
       "                                             oob_score=False, random_state=None,\n",
       "                                             verbose=0, warm_start=False),\n",
       "             iid='deprecated', n_jobs=None,\n",
       "             param_grid={'criterion': ('mse', 'mae'),\n",
       "                         'max_features': ('auto', 'sqrt', 'log2'),\n",
       "                         'n_estimators': range(10, 100, 10)},\n",
       "             pre_dispatch='2*n_jobs', refit=True, return_train_score=False,\n",
       "             scoring='neg_mean_absolute_error', verbose=0)"
      ]
     },
     "execution_count": 30,
     "metadata": {},
     "output_type": "execute_result"
    }
   ],
   "source": [
    "# tune models using GridSearch\n",
    "from sklearn.model_selection import GridSearchCV\n",
    "\n",
    "parameters = {'n_estimators':range(10, 100, 10), 'criterion':('mse', 'mae'), 'max_features':('auto','sqrt','log2')}\n",
    "gs = GridSearchCV(rfr, parameters, scoring = 'neg_mean_absolute_error', cv=3)\n",
    "gs.fit(X_train, y_train)"
   ]
  },
  {
   "cell_type": "code",
   "execution_count": 31,
   "metadata": {},
   "outputs": [
    {
     "data": {
      "text/plain": [
       "-0.08363987990324949"
      ]
     },
     "execution_count": 31,
     "metadata": {},
     "output_type": "execute_result"
    }
   ],
   "source": [
    "gs.best_score_"
   ]
  },
  {
   "cell_type": "code",
   "execution_count": 32,
   "metadata": {},
   "outputs": [
    {
     "data": {
      "text/plain": [
       "RandomForestRegressor(bootstrap=True, ccp_alpha=0.0, criterion='mse',\n",
       "                      max_depth=None, max_features='auto', max_leaf_nodes=None,\n",
       "                      max_samples=None, min_impurity_decrease=0.0,\n",
       "                      min_impurity_split=None, min_samples_leaf=1,\n",
       "                      min_samples_split=2, min_weight_fraction_leaf=0.0,\n",
       "                      n_estimators=40, n_jobs=None, oob_score=False,\n",
       "                      random_state=None, verbose=0, warm_start=False)"
      ]
     },
     "execution_count": 32,
     "metadata": {},
     "output_type": "execute_result"
    }
   ],
   "source": [
    "gs.best_estimator_"
   ]
  },
  {
   "cell_type": "code",
   "execution_count": 34,
   "metadata": {},
   "outputs": [],
   "source": [
    "# test ensemble\n",
    "prediction_reg = reg.predict(X_test)\n",
    "prediction_reg_lasso = reg_lasso.predict(X_test)\n",
    "prediction_rfr = gs.best_estimator_.predict(X_test)"
   ]
  },
  {
   "cell_type": "code",
   "execution_count": 35,
   "metadata": {},
   "outputs": [
    {
     "name": "stdout",
     "output_type": "stream",
     "text": [
      "0.1254406803615732\n",
      "0.3084137806549115\n",
      "0.0843587565256815\n"
     ]
    }
   ],
   "source": [
    "from sklearn.metrics import mean_absolute_error\n",
    "print(mean_absolute_error(y_test, prediction_reg))\n",
    "print(mean_absolute_error(y_test, prediction_reg_lasso))\n",
    "print(mean_absolute_error(y_test, prediction_rfr))"
   ]
  },
  {
   "cell_type": "code",
   "execution_count": 36,
   "metadata": {},
   "outputs": [],
   "source": [
    "# lasso regression seems to be the worst in this case, and random forest works the best"
   ]
  },
  {
   "cell_type": "code",
   "execution_count": 38,
   "metadata": {},
   "outputs": [
    {
     "data": {
      "text/plain": [
       "0.103416805169803"
      ]
     },
     "execution_count": 38,
     "metadata": {},
     "output_type": "execute_result"
    }
   ],
   "source": [
    "mean_absolute_error(y_test, (prediction_reg+prediction_rfr)/2)"
   ]
  },
  {
   "cell_type": "code",
   "execution_count": 39,
   "metadata": {},
   "outputs": [],
   "source": [
    "# pickle the model - abstract it, so we make it usable by other programs without having to re-train it\n",
    "import pickle\n",
    "pick = {'model' : gs.best_estimator_}\n",
    "pickle.dump(pick, open('model_file' + \".p\", \"wb\"))"
   ]
  },
  {
   "cell_type": "code",
   "execution_count": 40,
   "metadata": {},
   "outputs": [],
   "source": [
    "file_name = \"model_file.p\"\n",
    "with open(file_name, 'rb') as pickled:\n",
    "    data = pickle.load(pickled)\n",
    "    model = data['model']"
   ]
  },
  {
   "cell_type": "code",
   "execution_count": 41,
   "metadata": {},
   "outputs": [
    {
     "data": {
      "text/plain": [
       "array([0.67025409])"
      ]
     },
     "execution_count": 41,
     "metadata": {},
     "output_type": "execute_result"
    }
   ],
   "source": [
    "model.predict(X_test.iloc[1,:].values.reshape(1,-1))"
   ]
  }
 ],
 "metadata": {
  "kernelspec": {
   "display_name": "Python 3",
   "language": "python",
   "name": "python3"
  },
  "language_info": {
   "codemirror_mode": {
    "name": "ipython",
    "version": 3
   },
   "file_extension": ".py",
   "mimetype": "text/x-python",
   "name": "python",
   "nbconvert_exporter": "python",
   "pygments_lexer": "ipython3",
   "version": "3.7.6"
  }
 },
 "nbformat": 4,
 "nbformat_minor": 4
}
